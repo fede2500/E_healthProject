{
 "cells": [
  {
   "cell_type": "markdown",
   "source": [
    "#### A quick check on FAMD analysis"
   ],
   "metadata": {
    "collapsed": false
   },
   "id": "769572002041dca2"
  },
  {
   "cell_type": "code",
   "execution_count": 145,
   "outputs": [
    {
     "name": "stdout",
     "output_type": "stream",
     "text": [
      "Requirement already satisfied: prince in c:\\users\\mcrin\\anaconda3\\lib\\site-packages (0.13.0)\n",
      "Requirement already satisfied: altair<6.0.0,>=4.2.2 in c:\\users\\mcrin\\anaconda3\\lib\\site-packages (from prince) (5.1.2)\n",
      "Requirement already satisfied: pandas<3.0.0,>=1.4.1 in c:\\users\\mcrin\\anaconda3\\lib\\site-packages (from prince) (2.1.1)\n",
      "Requirement already satisfied: scikit-learn<2.0.0,>=1.0.2 in c:\\users\\mcrin\\anaconda3\\lib\\site-packages (from prince) (1.3.0)\n",
      "Requirement already satisfied: jinja2 in c:\\users\\mcrin\\anaconda3\\lib\\site-packages (from altair<6.0.0,>=4.2.2->prince) (3.1.2)\n",
      "Requirement already satisfied: jsonschema>=3.0 in c:\\users\\mcrin\\anaconda3\\lib\\site-packages (from altair<6.0.0,>=4.2.2->prince) (4.17.3)\n",
      "Requirement already satisfied: numpy in c:\\users\\mcrin\\anaconda3\\lib\\site-packages (from altair<6.0.0,>=4.2.2->prince) (1.24.3)\n",
      "Requirement already satisfied: packaging in c:\\users\\mcrin\\appdata\\roaming\\python\\python311\\site-packages (from altair<6.0.0,>=4.2.2->prince) (23.1)\n",
      "Requirement already satisfied: toolz in c:\\users\\mcrin\\anaconda3\\lib\\site-packages (from altair<6.0.0,>=4.2.2->prince) (0.12.0)\n",
      "Requirement already satisfied: python-dateutil>=2.8.2 in c:\\users\\mcrin\\appdata\\roaming\\python\\python311\\site-packages (from pandas<3.0.0,>=1.4.1->prince) (2.8.2)\n",
      "Requirement already satisfied: pytz>=2020.1 in c:\\users\\mcrin\\anaconda3\\lib\\site-packages (from pandas<3.0.0,>=1.4.1->prince) (2023.3.post1)\n",
      "Requirement already satisfied: tzdata>=2022.1 in c:\\users\\mcrin\\anaconda3\\lib\\site-packages (from pandas<3.0.0,>=1.4.1->prince) (2023.3)\n",
      "Requirement already satisfied: scipy>=1.5.0 in c:\\users\\mcrin\\anaconda3\\lib\\site-packages (from scikit-learn<2.0.0,>=1.0.2->prince) (1.11.3)\n",
      "Requirement already satisfied: joblib>=1.1.1 in c:\\users\\mcrin\\anaconda3\\lib\\site-packages (from scikit-learn<2.0.0,>=1.0.2->prince) (1.2.0)\n",
      "Requirement already satisfied: threadpoolctl>=2.0.0 in c:\\users\\mcrin\\anaconda3\\lib\\site-packages (from scikit-learn<2.0.0,>=1.0.2->prince) (2.2.0)\n",
      "Requirement already satisfied: attrs>=17.4.0 in c:\\users\\mcrin\\anaconda3\\lib\\site-packages (from jsonschema>=3.0->altair<6.0.0,>=4.2.2->prince) (23.1.0)\n",
      "Requirement already satisfied: pyrsistent!=0.17.0,!=0.17.1,!=0.17.2,>=0.14.0 in c:\\users\\mcrin\\anaconda3\\lib\\site-packages (from jsonschema>=3.0->altair<6.0.0,>=4.2.2->prince) (0.18.0)\n",
      "Requirement already satisfied: six>=1.5 in c:\\users\\mcrin\\appdata\\roaming\\python\\python311\\site-packages (from python-dateutil>=2.8.2->pandas<3.0.0,>=1.4.1->prince) (1.16.0)\n",
      "Requirement already satisfied: MarkupSafe>=2.0 in c:\\users\\mcrin\\anaconda3\\lib\\site-packages (from jinja2->altair<6.0.0,>=4.2.2->prince) (2.1.1)\n",
      "Note: you may need to restart the kernel to use updated packages.\n",
      "Requirement already satisfied: kmodes in c:\\users\\mcrin\\anaconda3\\lib\\site-packages (0.12.2)\n",
      "Requirement already satisfied: numpy>=1.10.4 in c:\\users\\mcrin\\anaconda3\\lib\\site-packages (from kmodes) (1.24.3)\n",
      "Requirement already satisfied: scikit-learn>=0.22.0 in c:\\users\\mcrin\\anaconda3\\lib\\site-packages (from kmodes) (1.3.0)\n",
      "Requirement already satisfied: scipy>=0.13.3 in c:\\users\\mcrin\\anaconda3\\lib\\site-packages (from kmodes) (1.11.3)\n",
      "Requirement already satisfied: joblib>=0.11 in c:\\users\\mcrin\\anaconda3\\lib\\site-packages (from kmodes) (1.2.0)\n",
      "Requirement already satisfied: threadpoolctl>=2.0.0 in c:\\users\\mcrin\\anaconda3\\lib\\site-packages (from scikit-learn>=0.22.0->kmodes) (2.2.0)\n",
      "Note: you may need to restart the kernel to use updated packages.\n"
     ]
    }
   ],
   "source": [
    "# installing the needed library (prince :)) )\n",
    "%pip install prince \n",
    "%pip install kmodes"
   ],
   "metadata": {
    "collapsed": false,
    "ExecuteTime": {
     "end_time": "2023-10-20T20:19:53.599003900Z",
     "start_time": "2023-10-20T20:19:37.268635400Z"
    }
   },
   "id": "92387a071a718d91"
  },
  {
   "cell_type": "code",
   "execution_count": 146,
   "outputs": [],
   "source": [
    "# importing the various library needed \n",
    "\n",
    "import pandas as pd\n",
    "import numpy as np\n",
    "from prince import FAMD\n",
    "from sklearn.datasets import make_blobs\n",
    "from sklearn.cluster import KMeans\n",
    "import matplotlib.pyplot as plt\n",
    "from mpl_toolkits.mplot3d import Axes3D"
   ],
   "metadata": {
    "collapsed": false,
    "ExecuteTime": {
     "end_time": "2023-10-20T20:19:53.599003900Z",
     "start_time": "2023-10-20T20:19:53.596484100Z"
    }
   },
   "id": "bf0a6425f5a6cffa"
  },
  {
   "cell_type": "code",
   "execution_count": 147,
   "outputs": [
    {
     "data": {
      "text/plain": "      age  gender  education  marital  income  phq_1  phq_2  phq_3  phq_4  \\\n0    42.0       1        5.0        1   18000      0    0.0    1.0      0   \n1    51.0       3       18.0        1   23000      0    0.0    0.0      0   \n2    40.0       0        8.0        1   10000      0    0.0    0.0      0   \n3    19.0       0       25.0        5   31000      2    1.0    0.0      0   \n4    42.0       2       13.0        1   40000      0    NaN    0.0      0   \n..    ...     ...        ...      ...     ...    ...    ...    ...    ...   \n155  29.0       2       18.0        0   25000      0    2.0    0.0      2   \n156  40.0       1       13.0        5   27000      2    1.0    2.0      0   \n157  40.0       0       13.0        0   26000      0    0.0    2.0      1   \n158  41.0       1        8.0        1   11000      0    NaN    1.0      0   \n159  55.0       0        8.0        2   32199      0    0.0    0.0      0   \n\n     phq_5  ...  ccs_3  ccs_4  ccs_5  ccs_6  ccs_7  ccs_8  ccs_9  ccs_10  \\\n0        0  ...    5.0    1.0    4.0    3.0      0      4      0       0   \n1        0  ...    3.0    6.0    6.0    1.0      0      1      4       0   \n2        1  ...    6.0    6.0    6.0    0.0      5      0      2       1   \n3        2  ...    6.0    4.0    0.0    4.0      6      0      1       1   \n4        1  ...    6.0    6.0    0.0    0.0      6      1      1       0   \n..     ...  ...    ...    ...    ...    ...    ...    ...    ...     ...   \n155      0  ...    4.0    4.0    0.0    6.0      6      0      2       3   \n156      2  ...    6.0    1.0    1.0    1.0      1      6      0       0   \n157      0  ...    4.0    6.0    0.0    2.0      2      0      4       2   \n158      0  ...    0.0    1.0    0.0    1.0      3      4      0       0   \n159      0  ...    2.0    1.0    0.0    6.0      4      5      5       0   \n\n     ccs_11  ccs_12  \n0         3       1  \n1         3       6  \n2         6       3  \n3         0       4  \n4         5       4  \n..      ...     ...  \n155       2       5  \n156       0       6  \n157       1       4  \n158       4       2  \n159       1       1  \n\n[160 rows x 54 columns]",
      "text/html": "<div>\n<style scoped>\n    .dataframe tbody tr th:only-of-type {\n        vertical-align: middle;\n    }\n\n    .dataframe tbody tr th {\n        vertical-align: top;\n    }\n\n    .dataframe thead th {\n        text-align: right;\n    }\n</style>\n<table border=\"1\" class=\"dataframe\">\n  <thead>\n    <tr style=\"text-align: right;\">\n      <th></th>\n      <th>age</th>\n      <th>gender</th>\n      <th>education</th>\n      <th>marital</th>\n      <th>income</th>\n      <th>phq_1</th>\n      <th>phq_2</th>\n      <th>phq_3</th>\n      <th>phq_4</th>\n      <th>phq_5</th>\n      <th>...</th>\n      <th>ccs_3</th>\n      <th>ccs_4</th>\n      <th>ccs_5</th>\n      <th>ccs_6</th>\n      <th>ccs_7</th>\n      <th>ccs_8</th>\n      <th>ccs_9</th>\n      <th>ccs_10</th>\n      <th>ccs_11</th>\n      <th>ccs_12</th>\n    </tr>\n  </thead>\n  <tbody>\n    <tr>\n      <th>0</th>\n      <td>42.0</td>\n      <td>1</td>\n      <td>5.0</td>\n      <td>1</td>\n      <td>18000</td>\n      <td>0</td>\n      <td>0.0</td>\n      <td>1.0</td>\n      <td>0</td>\n      <td>0</td>\n      <td>...</td>\n      <td>5.0</td>\n      <td>1.0</td>\n      <td>4.0</td>\n      <td>3.0</td>\n      <td>0</td>\n      <td>4</td>\n      <td>0</td>\n      <td>0</td>\n      <td>3</td>\n      <td>1</td>\n    </tr>\n    <tr>\n      <th>1</th>\n      <td>51.0</td>\n      <td>3</td>\n      <td>18.0</td>\n      <td>1</td>\n      <td>23000</td>\n      <td>0</td>\n      <td>0.0</td>\n      <td>0.0</td>\n      <td>0</td>\n      <td>0</td>\n      <td>...</td>\n      <td>3.0</td>\n      <td>6.0</td>\n      <td>6.0</td>\n      <td>1.0</td>\n      <td>0</td>\n      <td>1</td>\n      <td>4</td>\n      <td>0</td>\n      <td>3</td>\n      <td>6</td>\n    </tr>\n    <tr>\n      <th>2</th>\n      <td>40.0</td>\n      <td>0</td>\n      <td>8.0</td>\n      <td>1</td>\n      <td>10000</td>\n      <td>0</td>\n      <td>0.0</td>\n      <td>0.0</td>\n      <td>0</td>\n      <td>1</td>\n      <td>...</td>\n      <td>6.0</td>\n      <td>6.0</td>\n      <td>6.0</td>\n      <td>0.0</td>\n      <td>5</td>\n      <td>0</td>\n      <td>2</td>\n      <td>1</td>\n      <td>6</td>\n      <td>3</td>\n    </tr>\n    <tr>\n      <th>3</th>\n      <td>19.0</td>\n      <td>0</td>\n      <td>25.0</td>\n      <td>5</td>\n      <td>31000</td>\n      <td>2</td>\n      <td>1.0</td>\n      <td>0.0</td>\n      <td>0</td>\n      <td>2</td>\n      <td>...</td>\n      <td>6.0</td>\n      <td>4.0</td>\n      <td>0.0</td>\n      <td>4.0</td>\n      <td>6</td>\n      <td>0</td>\n      <td>1</td>\n      <td>1</td>\n      <td>0</td>\n      <td>4</td>\n    </tr>\n    <tr>\n      <th>4</th>\n      <td>42.0</td>\n      <td>2</td>\n      <td>13.0</td>\n      <td>1</td>\n      <td>40000</td>\n      <td>0</td>\n      <td>NaN</td>\n      <td>0.0</td>\n      <td>0</td>\n      <td>1</td>\n      <td>...</td>\n      <td>6.0</td>\n      <td>6.0</td>\n      <td>0.0</td>\n      <td>0.0</td>\n      <td>6</td>\n      <td>1</td>\n      <td>1</td>\n      <td>0</td>\n      <td>5</td>\n      <td>4</td>\n    </tr>\n    <tr>\n      <th>...</th>\n      <td>...</td>\n      <td>...</td>\n      <td>...</td>\n      <td>...</td>\n      <td>...</td>\n      <td>...</td>\n      <td>...</td>\n      <td>...</td>\n      <td>...</td>\n      <td>...</td>\n      <td>...</td>\n      <td>...</td>\n      <td>...</td>\n      <td>...</td>\n      <td>...</td>\n      <td>...</td>\n      <td>...</td>\n      <td>...</td>\n      <td>...</td>\n      <td>...</td>\n      <td>...</td>\n    </tr>\n    <tr>\n      <th>155</th>\n      <td>29.0</td>\n      <td>2</td>\n      <td>18.0</td>\n      <td>0</td>\n      <td>25000</td>\n      <td>0</td>\n      <td>2.0</td>\n      <td>0.0</td>\n      <td>2</td>\n      <td>0</td>\n      <td>...</td>\n      <td>4.0</td>\n      <td>4.0</td>\n      <td>0.0</td>\n      <td>6.0</td>\n      <td>6</td>\n      <td>0</td>\n      <td>2</td>\n      <td>3</td>\n      <td>2</td>\n      <td>5</td>\n    </tr>\n    <tr>\n      <th>156</th>\n      <td>40.0</td>\n      <td>1</td>\n      <td>13.0</td>\n      <td>5</td>\n      <td>27000</td>\n      <td>2</td>\n      <td>1.0</td>\n      <td>2.0</td>\n      <td>0</td>\n      <td>2</td>\n      <td>...</td>\n      <td>6.0</td>\n      <td>1.0</td>\n      <td>1.0</td>\n      <td>1.0</td>\n      <td>1</td>\n      <td>6</td>\n      <td>0</td>\n      <td>0</td>\n      <td>0</td>\n      <td>6</td>\n    </tr>\n    <tr>\n      <th>157</th>\n      <td>40.0</td>\n      <td>0</td>\n      <td>13.0</td>\n      <td>0</td>\n      <td>26000</td>\n      <td>0</td>\n      <td>0.0</td>\n      <td>2.0</td>\n      <td>1</td>\n      <td>0</td>\n      <td>...</td>\n      <td>4.0</td>\n      <td>6.0</td>\n      <td>0.0</td>\n      <td>2.0</td>\n      <td>2</td>\n      <td>0</td>\n      <td>4</td>\n      <td>2</td>\n      <td>1</td>\n      <td>4</td>\n    </tr>\n    <tr>\n      <th>158</th>\n      <td>41.0</td>\n      <td>1</td>\n      <td>8.0</td>\n      <td>1</td>\n      <td>11000</td>\n      <td>0</td>\n      <td>NaN</td>\n      <td>1.0</td>\n      <td>0</td>\n      <td>0</td>\n      <td>...</td>\n      <td>0.0</td>\n      <td>1.0</td>\n      <td>0.0</td>\n      <td>1.0</td>\n      <td>3</td>\n      <td>4</td>\n      <td>0</td>\n      <td>0</td>\n      <td>4</td>\n      <td>2</td>\n    </tr>\n    <tr>\n      <th>159</th>\n      <td>55.0</td>\n      <td>0</td>\n      <td>8.0</td>\n      <td>2</td>\n      <td>32199</td>\n      <td>0</td>\n      <td>0.0</td>\n      <td>0.0</td>\n      <td>0</td>\n      <td>0</td>\n      <td>...</td>\n      <td>2.0</td>\n      <td>1.0</td>\n      <td>0.0</td>\n      <td>6.0</td>\n      <td>4</td>\n      <td>5</td>\n      <td>5</td>\n      <td>0</td>\n      <td>1</td>\n      <td>1</td>\n    </tr>\n  </tbody>\n</table>\n<p>160 rows × 54 columns</p>\n</div>"
     },
     "execution_count": 147,
     "metadata": {},
     "output_type": "execute_result"
    }
   ],
   "source": [
    "# importing the dataset \n",
    "data = pd.read_csv('dataset.csv')\n",
    "data"
   ],
   "metadata": {
    "collapsed": false,
    "ExecuteTime": {
     "end_time": "2023-10-20T20:19:53.646740700Z",
     "start_time": "2023-10-20T20:19:53.603991900Z"
    }
   },
   "id": "9726a993e05d1445"
  },
  {
   "cell_type": "code",
   "execution_count": 148,
   "outputs": [],
   "source": [
    "# dropping the last two questionnaires \n",
    "colsofinterest = data.columns[:29]\n",
    "data = data[colsofinterest]"
   ],
   "metadata": {
    "collapsed": false,
    "ExecuteTime": {
     "end_time": "2023-10-20T20:19:53.673417800Z",
     "start_time": "2023-10-20T20:19:53.649870100Z"
    }
   },
   "id": "e9f6db0b73723edf"
  },
  {
   "cell_type": "code",
   "execution_count": 149,
   "outputs": [],
   "source": [
    "# all the various data analysis has been already done in previous notebooks and programs so this one is just centered on doing the FAMD analysis and the following clustering of the data\n",
    "# so right now let's go directly to the filling of the missing values using the mode as value\n",
    "data = data.fillna(data.mode().iloc[0])"
   ],
   "metadata": {
    "collapsed": false,
    "ExecuteTime": {
     "end_time": "2023-10-20T20:19:53.750209700Z",
     "start_time": "2023-10-20T20:19:53.657844100Z"
    }
   },
   "id": "a846768f8cd50103"
  },
  {
   "cell_type": "code",
   "execution_count": 150,
   "outputs": [
    {
     "data": {
      "text/plain": "      age   income gender education marital phq_1 phq_2 phq_3 phq_4 phq_5  \\\n0    42.0  18000.0      1       5.0       1     0   0.0   1.0     0     0   \n1    51.0  23000.0      3      18.0       1     0   0.0   0.0     0     0   \n2    40.0  10000.0      0       8.0       1     0   0.0   0.0     0     1   \n3    19.0  31000.0      0      25.0       5     2   1.0   0.0     0     2   \n4    42.0  40000.0      2      13.0       1     0   0.0   0.0     0     1   \n..    ...      ...    ...       ...     ...   ...   ...   ...   ...   ...   \n155  29.0  25000.0      2      18.0       0     0   2.0   0.0     2     0   \n156  40.0  27000.0      1      13.0       5     2   1.0   2.0     0     2   \n157  40.0  26000.0      0      13.0       0     0   0.0   2.0     1     0   \n158  41.0  11000.0      1       8.0       1     0   0.0   1.0     0     0   \n159  55.0  32199.0      0       8.0       2     0   0.0   0.0     0     0   \n\n     ... gad_6 gad_7 eheals_1 eheals_2 eheals_3 eheals_4 eheals_5 eheals_6  \\\n0    ...   0.0   0.0      3.0      5.0      3.0      2.0      1.0        0   \n1    ...   0.0   1.0      2.0      4.0      4.0      4.0      4.0        4   \n2    ...   0.0   1.0      0.0      4.0      2.0      4.0      3.0        3   \n3    ...   2.0   3.0      5.0      5.0      5.0      5.0      5.0        5   \n4    ...   0.0   0.0      5.0      5.0      0.0      0.0      5.0        5   \n..   ...   ...   ...      ...      ...      ...      ...      ...      ...   \n155  ...   3.0   3.0      5.0      3.0      5.0      5.0      5.0        5   \n156  ...   0.0   2.0      3.0      5.0      5.0      5.0      5.0        0   \n157  ...   0.0   2.0      5.0      5.0      5.0      5.0      5.0        3   \n158  ...   1.0   1.0      4.0      3.0      3.0      4.0      1.0        3   \n159  ...   0.0   1.0      4.0      1.0      3.0      4.0      4.0        4   \n\n    eheals_7 eheals_8  \n0          2      2.0  \n1          0      3.0  \n2          4      0.0  \n3          5      5.0  \n4          5      4.0  \n..       ...      ...  \n155        5      5.0  \n156        3      5.0  \n157        4      0.0  \n158        4      4.0  \n159        2      4.0  \n\n[160 rows x 29 columns]",
      "text/html": "<div>\n<style scoped>\n    .dataframe tbody tr th:only-of-type {\n        vertical-align: middle;\n    }\n\n    .dataframe tbody tr th {\n        vertical-align: top;\n    }\n\n    .dataframe thead th {\n        text-align: right;\n    }\n</style>\n<table border=\"1\" class=\"dataframe\">\n  <thead>\n    <tr style=\"text-align: right;\">\n      <th></th>\n      <th>age</th>\n      <th>income</th>\n      <th>gender</th>\n      <th>education</th>\n      <th>marital</th>\n      <th>phq_1</th>\n      <th>phq_2</th>\n      <th>phq_3</th>\n      <th>phq_4</th>\n      <th>phq_5</th>\n      <th>...</th>\n      <th>gad_6</th>\n      <th>gad_7</th>\n      <th>eheals_1</th>\n      <th>eheals_2</th>\n      <th>eheals_3</th>\n      <th>eheals_4</th>\n      <th>eheals_5</th>\n      <th>eheals_6</th>\n      <th>eheals_7</th>\n      <th>eheals_8</th>\n    </tr>\n  </thead>\n  <tbody>\n    <tr>\n      <th>0</th>\n      <td>42.0</td>\n      <td>18000.0</td>\n      <td>1</td>\n      <td>5.0</td>\n      <td>1</td>\n      <td>0</td>\n      <td>0.0</td>\n      <td>1.0</td>\n      <td>0</td>\n      <td>0</td>\n      <td>...</td>\n      <td>0.0</td>\n      <td>0.0</td>\n      <td>3.0</td>\n      <td>5.0</td>\n      <td>3.0</td>\n      <td>2.0</td>\n      <td>1.0</td>\n      <td>0</td>\n      <td>2</td>\n      <td>2.0</td>\n    </tr>\n    <tr>\n      <th>1</th>\n      <td>51.0</td>\n      <td>23000.0</td>\n      <td>3</td>\n      <td>18.0</td>\n      <td>1</td>\n      <td>0</td>\n      <td>0.0</td>\n      <td>0.0</td>\n      <td>0</td>\n      <td>0</td>\n      <td>...</td>\n      <td>0.0</td>\n      <td>1.0</td>\n      <td>2.0</td>\n      <td>4.0</td>\n      <td>4.0</td>\n      <td>4.0</td>\n      <td>4.0</td>\n      <td>4</td>\n      <td>0</td>\n      <td>3.0</td>\n    </tr>\n    <tr>\n      <th>2</th>\n      <td>40.0</td>\n      <td>10000.0</td>\n      <td>0</td>\n      <td>8.0</td>\n      <td>1</td>\n      <td>0</td>\n      <td>0.0</td>\n      <td>0.0</td>\n      <td>0</td>\n      <td>1</td>\n      <td>...</td>\n      <td>0.0</td>\n      <td>1.0</td>\n      <td>0.0</td>\n      <td>4.0</td>\n      <td>2.0</td>\n      <td>4.0</td>\n      <td>3.0</td>\n      <td>3</td>\n      <td>4</td>\n      <td>0.0</td>\n    </tr>\n    <tr>\n      <th>3</th>\n      <td>19.0</td>\n      <td>31000.0</td>\n      <td>0</td>\n      <td>25.0</td>\n      <td>5</td>\n      <td>2</td>\n      <td>1.0</td>\n      <td>0.0</td>\n      <td>0</td>\n      <td>2</td>\n      <td>...</td>\n      <td>2.0</td>\n      <td>3.0</td>\n      <td>5.0</td>\n      <td>5.0</td>\n      <td>5.0</td>\n      <td>5.0</td>\n      <td>5.0</td>\n      <td>5</td>\n      <td>5</td>\n      <td>5.0</td>\n    </tr>\n    <tr>\n      <th>4</th>\n      <td>42.0</td>\n      <td>40000.0</td>\n      <td>2</td>\n      <td>13.0</td>\n      <td>1</td>\n      <td>0</td>\n      <td>0.0</td>\n      <td>0.0</td>\n      <td>0</td>\n      <td>1</td>\n      <td>...</td>\n      <td>0.0</td>\n      <td>0.0</td>\n      <td>5.0</td>\n      <td>5.0</td>\n      <td>0.0</td>\n      <td>0.0</td>\n      <td>5.0</td>\n      <td>5</td>\n      <td>5</td>\n      <td>4.0</td>\n    </tr>\n    <tr>\n      <th>...</th>\n      <td>...</td>\n      <td>...</td>\n      <td>...</td>\n      <td>...</td>\n      <td>...</td>\n      <td>...</td>\n      <td>...</td>\n      <td>...</td>\n      <td>...</td>\n      <td>...</td>\n      <td>...</td>\n      <td>...</td>\n      <td>...</td>\n      <td>...</td>\n      <td>...</td>\n      <td>...</td>\n      <td>...</td>\n      <td>...</td>\n      <td>...</td>\n      <td>...</td>\n      <td>...</td>\n    </tr>\n    <tr>\n      <th>155</th>\n      <td>29.0</td>\n      <td>25000.0</td>\n      <td>2</td>\n      <td>18.0</td>\n      <td>0</td>\n      <td>0</td>\n      <td>2.0</td>\n      <td>0.0</td>\n      <td>2</td>\n      <td>0</td>\n      <td>...</td>\n      <td>3.0</td>\n      <td>3.0</td>\n      <td>5.0</td>\n      <td>3.0</td>\n      <td>5.0</td>\n      <td>5.0</td>\n      <td>5.0</td>\n      <td>5</td>\n      <td>5</td>\n      <td>5.0</td>\n    </tr>\n    <tr>\n      <th>156</th>\n      <td>40.0</td>\n      <td>27000.0</td>\n      <td>1</td>\n      <td>13.0</td>\n      <td>5</td>\n      <td>2</td>\n      <td>1.0</td>\n      <td>2.0</td>\n      <td>0</td>\n      <td>2</td>\n      <td>...</td>\n      <td>0.0</td>\n      <td>2.0</td>\n      <td>3.0</td>\n      <td>5.0</td>\n      <td>5.0</td>\n      <td>5.0</td>\n      <td>5.0</td>\n      <td>0</td>\n      <td>3</td>\n      <td>5.0</td>\n    </tr>\n    <tr>\n      <th>157</th>\n      <td>40.0</td>\n      <td>26000.0</td>\n      <td>0</td>\n      <td>13.0</td>\n      <td>0</td>\n      <td>0</td>\n      <td>0.0</td>\n      <td>2.0</td>\n      <td>1</td>\n      <td>0</td>\n      <td>...</td>\n      <td>0.0</td>\n      <td>2.0</td>\n      <td>5.0</td>\n      <td>5.0</td>\n      <td>5.0</td>\n      <td>5.0</td>\n      <td>5.0</td>\n      <td>3</td>\n      <td>4</td>\n      <td>0.0</td>\n    </tr>\n    <tr>\n      <th>158</th>\n      <td>41.0</td>\n      <td>11000.0</td>\n      <td>1</td>\n      <td>8.0</td>\n      <td>1</td>\n      <td>0</td>\n      <td>0.0</td>\n      <td>1.0</td>\n      <td>0</td>\n      <td>0</td>\n      <td>...</td>\n      <td>1.0</td>\n      <td>1.0</td>\n      <td>4.0</td>\n      <td>3.0</td>\n      <td>3.0</td>\n      <td>4.0</td>\n      <td>1.0</td>\n      <td>3</td>\n      <td>4</td>\n      <td>4.0</td>\n    </tr>\n    <tr>\n      <th>159</th>\n      <td>55.0</td>\n      <td>32199.0</td>\n      <td>0</td>\n      <td>8.0</td>\n      <td>2</td>\n      <td>0</td>\n      <td>0.0</td>\n      <td>0.0</td>\n      <td>0</td>\n      <td>0</td>\n      <td>...</td>\n      <td>0.0</td>\n      <td>1.0</td>\n      <td>4.0</td>\n      <td>1.0</td>\n      <td>3.0</td>\n      <td>4.0</td>\n      <td>4.0</td>\n      <td>4</td>\n      <td>2</td>\n      <td>4.0</td>\n    </tr>\n  </tbody>\n</table>\n<p>160 rows × 29 columns</p>\n</div>"
     },
     "execution_count": 150,
     "metadata": {},
     "output_type": "execute_result"
    }
   ],
   "source": [
    "# making categorical features of types object (and just to be sure changing all the numerical data in float)\n",
    "numcols = ['age', 'income']\n",
    "num = data[numcols]\n",
    "cat = data.drop(numcols, axis = 1)\n",
    "cat = cat.astype('object')\n",
    "num = num.astype('float')\n",
    "\n",
    "# concatentating the two dataframes\n",
    "completedata = pd.concat([num, cat], axis = 1)\n",
    "completedata"
   ],
   "metadata": {
    "collapsed": false,
    "ExecuteTime": {
     "end_time": "2023-10-20T20:19:53.822320200Z",
     "start_time": "2023-10-20T20:19:53.688875900Z"
    }
   },
   "id": "536af6b60ae5b0bb"
  },
  {
   "cell_type": "code",
   "execution_count": 166,
   "outputs": [
    {
     "name": "stderr",
     "output_type": "stream",
     "text": [
      "C:\\Users\\mcrin\\anaconda3\\Lib\\site-packages\\prince\\pca.py:175: PerformanceWarning: Concatenating sparse arrays with multiple fill values: '[-2.027929979067325, -2.2912878474779204, -2.1534855467358027, -0.8366600265340756, -1.7748239349298849, -2.2332711434127295, -1.724818831066034, -1.2196310917650468, -1.0246950765959597, -0.6614378277661477, -1.5083103128998356, -1.8708286933869707, -2.457132475061123, -0.9810708435174293, -1.1067971810589328, -1.9170289512680816, -2.595669470483482, -0.8874119674649424, -1.355544171172596, -1.387443692551161, -0.7826237921249264, -0.9354143466934853, -1.3228756555322954, -1.6992645467966427, -2.4392621835300936, -0.5123475382979799, -1.0665364503850772, -1.2549900398011136, -1.9843134832984428, -2.5446021299998947, -1.2893796958227628, -1.8472953201911166, -2.329162939770423, -1.1832159566199234, -2.4212600025606505, -0.724568837309472, -2.509980079602227, -1.620185174601965, -1.5370426148939398, -1.6469669092000605, -2.384848003542364, -1.7993054215446582, -1.75, -1.592953232207399, -2.4031229681395834, -1.5652475842498528, -1.6733200530681511, -1.449137674618944, -2.4748737341529163, -2.898275349237888, -2.9283100928692645, -1.8234582528810468, -2.837252191822221, -2.8526303651191824, -2.97279329923895, -1.4186260959111106, -2.806243040080456, -2.790609252475165, -3.088284313336452]'. Picking the first and converting the rest.\n",
      "  X = self.scaler_.transform(X.to_numpy())\n",
      "C:\\Users\\mcrin\\anaconda3\\Lib\\site-packages\\prince\\pca.py:175: PerformanceWarning: Concatenating sparse arrays with multiple fill values: '[-2.027929979067325, -2.2912878474779204, -2.1534855467358027, -0.8366600265340756, -1.7748239349298849, -2.2332711434127295, -1.724818831066034, -1.2196310917650468, -1.0246950765959597, -0.6614378277661477, -1.5083103128998356, -1.8708286933869707, -2.457132475061123, -0.9810708435174293, -1.1067971810589328, -1.9170289512680816, -2.595669470483482, -0.8874119674649424, -1.355544171172596, -1.387443692551161, -0.7826237921249264, -0.9354143466934853, -1.3228756555322954, -1.6992645467966427, -2.4392621835300936, -0.5123475382979799, -1.0665364503850772, -1.2549900398011136, -1.9843134832984428, -2.5446021299998947, -1.2893796958227628, -1.8472953201911166, -2.329162939770423, -1.1832159566199234, -2.4212600025606505, -0.724568837309472, -2.509980079602227, -1.620185174601965, -1.5370426148939398, -1.6469669092000605, -2.384848003542364, -1.7993054215446582, -1.75, -1.592953232207399, -2.4031229681395834, -1.5652475842498528, -1.6733200530681511, -1.449137674618944, -2.4748737341529163, -2.898275349237888, -2.9283100928692645, -1.8234582528810468, -2.837252191822221, -2.8526303651191824, -2.97279329923895, -1.4186260959111106, -2.806243040080456, -2.790609252475165, -3.088284313336452]'. Picking the first and converting the rest.\n",
      "  X = self.scaler_.transform(X.to_numpy())\n"
     ]
    },
    {
     "data": {
      "text/plain": "component         0          1         2         3          4          5   \\\n0         -14.259078  -4.649429  3.726687  5.157774   3.872088  -8.297335   \n1         -13.767552  -5.281290 -8.857353 -2.895738   5.158860   4.400097   \n2         -14.202764  -4.979159 -4.364294 -3.689478   7.090093   7.765623   \n3          19.792148  -5.085729  2.892067  3.594777  -4.161600   3.562797   \n4           0.724557  15.511736 -2.430451 -0.593289  -8.440018 -13.981161   \n..               ...        ...       ...       ...        ...        ...   \n155        15.973463  -7.346499 -1.576628 -4.139684  -1.043113  -7.126894   \n156         1.875795   9.324775 -1.485568  8.384400  -6.731121  -1.507158   \n157         2.257540   3.118374 -2.009416 -3.576315   2.132561   2.664263   \n158       -12.909057  -8.574507  1.518567 -6.967790  12.067857  -3.563237   \n159       -14.579601  -4.886800 -9.602703  2.868973   6.369761  -0.621480   \n\ncomponent         6         7          8          9         10        11  \\\n0          -3.653743 -1.132479  -8.009400 -11.037245  1.356014 -8.817989   \n1          -4.700387  0.683032   5.516215   6.156447  6.267128  3.606118   \n2          -3.406359  6.544247  10.131244   3.374218  3.201822  1.067178   \n3          -4.169299  2.044575   5.344348   2.339965  4.082720  8.129856   \n4           8.655757 -1.250865  -1.163676  -6.955764  4.288066  4.659617   \n..               ...       ...        ...        ...       ...       ...   \n155         1.326213  8.847913  -2.835272  -1.928559  0.218898 -0.653328   \n156       -11.372164  2.686151   0.052579   6.833214 -2.611743 -0.183586   \n157        -1.234769 -7.129406   6.413173   2.731865  5.324189 -6.373057   \n158        -0.568185  0.298451  -4.724628 -12.333824 -2.660745 -0.971253   \n159         4.764588 -2.784526   3.553787  -2.369095 -9.975173  3.133592   \n\ncomponent        12        13        14  \n0         -7.504779  1.105127  1.805018  \n1          3.405001 -7.871994 -5.030107  \n2          0.263083  8.854933 -0.848355  \n3         -3.563961 -3.312881  7.002597  \n4          5.707384 -0.213486  4.957871  \n..              ...       ...       ...  \n155        3.366303  1.443388  1.114069  \n156       -8.549030 -4.364869  2.052186  \n157        0.046838  7.628239 -3.370899  \n158       -2.472659  1.038386 -5.894514  \n159        3.055006 -4.308415 -0.917567  \n\n[160 rows x 15 columns]",
      "text/html": "<div>\n<style scoped>\n    .dataframe tbody tr th:only-of-type {\n        vertical-align: middle;\n    }\n\n    .dataframe tbody tr th {\n        vertical-align: top;\n    }\n\n    .dataframe thead th {\n        text-align: right;\n    }\n</style>\n<table border=\"1\" class=\"dataframe\">\n  <thead>\n    <tr style=\"text-align: right;\">\n      <th>component</th>\n      <th>0</th>\n      <th>1</th>\n      <th>2</th>\n      <th>3</th>\n      <th>4</th>\n      <th>5</th>\n      <th>6</th>\n      <th>7</th>\n      <th>8</th>\n      <th>9</th>\n      <th>10</th>\n      <th>11</th>\n      <th>12</th>\n      <th>13</th>\n      <th>14</th>\n    </tr>\n  </thead>\n  <tbody>\n    <tr>\n      <th>0</th>\n      <td>-14.259078</td>\n      <td>-4.649429</td>\n      <td>3.726687</td>\n      <td>5.157774</td>\n      <td>3.872088</td>\n      <td>-8.297335</td>\n      <td>-3.653743</td>\n      <td>-1.132479</td>\n      <td>-8.009400</td>\n      <td>-11.037245</td>\n      <td>1.356014</td>\n      <td>-8.817989</td>\n      <td>-7.504779</td>\n      <td>1.105127</td>\n      <td>1.805018</td>\n    </tr>\n    <tr>\n      <th>1</th>\n      <td>-13.767552</td>\n      <td>-5.281290</td>\n      <td>-8.857353</td>\n      <td>-2.895738</td>\n      <td>5.158860</td>\n      <td>4.400097</td>\n      <td>-4.700387</td>\n      <td>0.683032</td>\n      <td>5.516215</td>\n      <td>6.156447</td>\n      <td>6.267128</td>\n      <td>3.606118</td>\n      <td>3.405001</td>\n      <td>-7.871994</td>\n      <td>-5.030107</td>\n    </tr>\n    <tr>\n      <th>2</th>\n      <td>-14.202764</td>\n      <td>-4.979159</td>\n      <td>-4.364294</td>\n      <td>-3.689478</td>\n      <td>7.090093</td>\n      <td>7.765623</td>\n      <td>-3.406359</td>\n      <td>6.544247</td>\n      <td>10.131244</td>\n      <td>3.374218</td>\n      <td>3.201822</td>\n      <td>1.067178</td>\n      <td>0.263083</td>\n      <td>8.854933</td>\n      <td>-0.848355</td>\n    </tr>\n    <tr>\n      <th>3</th>\n      <td>19.792148</td>\n      <td>-5.085729</td>\n      <td>2.892067</td>\n      <td>3.594777</td>\n      <td>-4.161600</td>\n      <td>3.562797</td>\n      <td>-4.169299</td>\n      <td>2.044575</td>\n      <td>5.344348</td>\n      <td>2.339965</td>\n      <td>4.082720</td>\n      <td>8.129856</td>\n      <td>-3.563961</td>\n      <td>-3.312881</td>\n      <td>7.002597</td>\n    </tr>\n    <tr>\n      <th>4</th>\n      <td>0.724557</td>\n      <td>15.511736</td>\n      <td>-2.430451</td>\n      <td>-0.593289</td>\n      <td>-8.440018</td>\n      <td>-13.981161</td>\n      <td>8.655757</td>\n      <td>-1.250865</td>\n      <td>-1.163676</td>\n      <td>-6.955764</td>\n      <td>4.288066</td>\n      <td>4.659617</td>\n      <td>5.707384</td>\n      <td>-0.213486</td>\n      <td>4.957871</td>\n    </tr>\n    <tr>\n      <th>...</th>\n      <td>...</td>\n      <td>...</td>\n      <td>...</td>\n      <td>...</td>\n      <td>...</td>\n      <td>...</td>\n      <td>...</td>\n      <td>...</td>\n      <td>...</td>\n      <td>...</td>\n      <td>...</td>\n      <td>...</td>\n      <td>...</td>\n      <td>...</td>\n      <td>...</td>\n    </tr>\n    <tr>\n      <th>155</th>\n      <td>15.973463</td>\n      <td>-7.346499</td>\n      <td>-1.576628</td>\n      <td>-4.139684</td>\n      <td>-1.043113</td>\n      <td>-7.126894</td>\n      <td>1.326213</td>\n      <td>8.847913</td>\n      <td>-2.835272</td>\n      <td>-1.928559</td>\n      <td>0.218898</td>\n      <td>-0.653328</td>\n      <td>3.366303</td>\n      <td>1.443388</td>\n      <td>1.114069</td>\n    </tr>\n    <tr>\n      <th>156</th>\n      <td>1.875795</td>\n      <td>9.324775</td>\n      <td>-1.485568</td>\n      <td>8.384400</td>\n      <td>-6.731121</td>\n      <td>-1.507158</td>\n      <td>-11.372164</td>\n      <td>2.686151</td>\n      <td>0.052579</td>\n      <td>6.833214</td>\n      <td>-2.611743</td>\n      <td>-0.183586</td>\n      <td>-8.549030</td>\n      <td>-4.364869</td>\n      <td>2.052186</td>\n    </tr>\n    <tr>\n      <th>157</th>\n      <td>2.257540</td>\n      <td>3.118374</td>\n      <td>-2.009416</td>\n      <td>-3.576315</td>\n      <td>2.132561</td>\n      <td>2.664263</td>\n      <td>-1.234769</td>\n      <td>-7.129406</td>\n      <td>6.413173</td>\n      <td>2.731865</td>\n      <td>5.324189</td>\n      <td>-6.373057</td>\n      <td>0.046838</td>\n      <td>7.628239</td>\n      <td>-3.370899</td>\n    </tr>\n    <tr>\n      <th>158</th>\n      <td>-12.909057</td>\n      <td>-8.574507</td>\n      <td>1.518567</td>\n      <td>-6.967790</td>\n      <td>12.067857</td>\n      <td>-3.563237</td>\n      <td>-0.568185</td>\n      <td>0.298451</td>\n      <td>-4.724628</td>\n      <td>-12.333824</td>\n      <td>-2.660745</td>\n      <td>-0.971253</td>\n      <td>-2.472659</td>\n      <td>1.038386</td>\n      <td>-5.894514</td>\n    </tr>\n    <tr>\n      <th>159</th>\n      <td>-14.579601</td>\n      <td>-4.886800</td>\n      <td>-9.602703</td>\n      <td>2.868973</td>\n      <td>6.369761</td>\n      <td>-0.621480</td>\n      <td>4.764588</td>\n      <td>-2.784526</td>\n      <td>3.553787</td>\n      <td>-2.369095</td>\n      <td>-9.975173</td>\n      <td>3.133592</td>\n      <td>3.055006</td>\n      <td>-4.308415</td>\n      <td>-0.917567</td>\n    </tr>\n  </tbody>\n</table>\n<p>160 rows × 15 columns</p>\n</div>"
     },
     "execution_count": 166,
     "metadata": {},
     "output_type": "execute_result"
    }
   ],
   "source": [
    "#trying to do the famd???\n",
    "famd = FAMD(\n",
    "    n_components = 15,\n",
    "    n_iter = 100000,\n",
    "    copy = True,\n",
    "    check_input = True,\n",
    "    random_state = 42,\n",
    "    engine = \"sklearn\",\n",
    "    handle_unknown = \"error\"  \n",
    ")\n",
    "famd.fit_transform(completedata)"
   ],
   "metadata": {
    "collapsed": false,
    "ExecuteTime": {
     "end_time": "2023-10-20T20:28:17.581272800Z",
     "start_time": "2023-10-20T20:27:28.152927500Z"
    }
   },
   "id": "d53a417960b2f9a2"
  },
  {
   "cell_type": "code",
   "execution_count": 165,
   "outputs": [
    {
     "data": {
      "text/plain": "          eigenvalue % of variance % of variance (cumulative)\ncomponent                                                    \n0            138.919        10.54%                     10.54%\n1             61.662         4.68%                     15.22%\n2             40.010         3.04%                     18.25%\n3             38.517         2.92%                     21.18%\n4             34.911         2.65%                     23.83%\n5             34.285         2.60%                     26.43%\n6             33.382         2.53%                     28.96%\n7             31.736         2.41%                     31.37%\n8             31.006         2.35%                     33.72%\n9             28.987         2.20%                     35.92%\n10            28.402         2.15%                     38.07%\n11            27.955         2.12%                     40.20%\n12            26.680         2.02%                     42.22%\n13            25.997         1.97%                     44.19%\n14            24.674         1.87%                     46.06%",
      "text/html": "<div>\n<style scoped>\n    .dataframe tbody tr th:only-of-type {\n        vertical-align: middle;\n    }\n\n    .dataframe tbody tr th {\n        vertical-align: top;\n    }\n\n    .dataframe thead th {\n        text-align: right;\n    }\n</style>\n<table border=\"1\" class=\"dataframe\">\n  <thead>\n    <tr style=\"text-align: right;\">\n      <th></th>\n      <th>eigenvalue</th>\n      <th>% of variance</th>\n      <th>% of variance (cumulative)</th>\n    </tr>\n    <tr>\n      <th>component</th>\n      <th></th>\n      <th></th>\n      <th></th>\n    </tr>\n  </thead>\n  <tbody>\n    <tr>\n      <th>0</th>\n      <td>138.919</td>\n      <td>10.54%</td>\n      <td>10.54%</td>\n    </tr>\n    <tr>\n      <th>1</th>\n      <td>61.662</td>\n      <td>4.68%</td>\n      <td>15.22%</td>\n    </tr>\n    <tr>\n      <th>2</th>\n      <td>40.010</td>\n      <td>3.04%</td>\n      <td>18.25%</td>\n    </tr>\n    <tr>\n      <th>3</th>\n      <td>38.517</td>\n      <td>2.92%</td>\n      <td>21.18%</td>\n    </tr>\n    <tr>\n      <th>4</th>\n      <td>34.911</td>\n      <td>2.65%</td>\n      <td>23.83%</td>\n    </tr>\n    <tr>\n      <th>5</th>\n      <td>34.285</td>\n      <td>2.60%</td>\n      <td>26.43%</td>\n    </tr>\n    <tr>\n      <th>6</th>\n      <td>33.382</td>\n      <td>2.53%</td>\n      <td>28.96%</td>\n    </tr>\n    <tr>\n      <th>7</th>\n      <td>31.736</td>\n      <td>2.41%</td>\n      <td>31.37%</td>\n    </tr>\n    <tr>\n      <th>8</th>\n      <td>31.006</td>\n      <td>2.35%</td>\n      <td>33.72%</td>\n    </tr>\n    <tr>\n      <th>9</th>\n      <td>28.987</td>\n      <td>2.20%</td>\n      <td>35.92%</td>\n    </tr>\n    <tr>\n      <th>10</th>\n      <td>28.402</td>\n      <td>2.15%</td>\n      <td>38.07%</td>\n    </tr>\n    <tr>\n      <th>11</th>\n      <td>27.955</td>\n      <td>2.12%</td>\n      <td>40.20%</td>\n    </tr>\n    <tr>\n      <th>12</th>\n      <td>26.680</td>\n      <td>2.02%</td>\n      <td>42.22%</td>\n    </tr>\n    <tr>\n      <th>13</th>\n      <td>25.997</td>\n      <td>1.97%</td>\n      <td>44.19%</td>\n    </tr>\n    <tr>\n      <th>14</th>\n      <td>24.674</td>\n      <td>1.87%</td>\n      <td>46.06%</td>\n    </tr>\n  </tbody>\n</table>\n</div>"
     },
     "execution_count": 165,
     "metadata": {},
     "output_type": "execute_result"
    }
   ],
   "source": [
    "famd.eigenvalues_summary"
   ],
   "metadata": {
    "collapsed": false,
    "ExecuteTime": {
     "end_time": "2023-10-20T20:27:19.753203700Z",
     "start_time": "2023-10-20T20:27:19.715691100Z"
    }
   },
   "id": "4432275ccb4eacb2"
  },
  {
   "cell_type": "code",
   "execution_count": 164,
   "outputs": [
    {
     "name": "stderr",
     "output_type": "stream",
     "text": [
      "C:\\Users\\mcrin\\anaconda3\\Lib\\site-packages\\prince\\pca.py:175: PerformanceWarning: Concatenating sparse arrays with multiple fill values: '[-2.2912878474779204, -2.027929979067325, -2.1534855467358027, -0.8366600265340756, -1.7748239349298849, -2.2332711434127295, -1.724818831066034, -1.2196310917650468, -1.0246950765959597, -0.6614378277661477, -1.5083103128998356, -1.8708286933869707, -2.457132475061123, -0.9810708435174293, -1.1067971810589328, -1.9170289512680816, -2.595669470483482, -0.8874119674649424, -1.355544171172596, -1.387443692551161, -0.7826237921249264, -0.9354143466934853, -1.3228756555322954, -1.6992645467966427, -2.4392621835300936, -0.5123475382979799, -1.0665364503850772, -1.2549900398011136, -1.9843134832984428, -2.5446021299998947, -1.2893796958227628, -1.8472953201911166, -2.329162939770423, -1.1832159566199234, -2.4212600025606505, -0.724568837309472, -2.509980079602227, -1.620185174601965, -1.5370426148939398, -1.6469669092000605, -2.384848003542364, -1.7993054215446582, -1.75, -1.592953232207399, -2.4031229681395834, -1.5652475842498528, -1.6733200530681511, -1.449137674618944, -2.4748737341529163, -2.898275349237888, -2.9283100928692645, -1.8234582528810468, -2.837252191822221, -2.8526303651191824, -2.97279329923895, -1.4186260959111106, -2.806243040080456, -2.790609252475165, -3.088284313336452]'. Picking the first and converting the rest.\n",
      "  X = self.scaler_.transform(X.to_numpy())\n",
      "C:\\Users\\mcrin\\anaconda3\\Lib\\site-packages\\sklearn\\cluster\\_kmeans.py:1412: FutureWarning: The default value of `n_init` will change from 10 to 'auto' in 1.4. Set the value of `n_init` explicitly to suppress the warning\n",
      "  super()._check_params_vs_input(X, default_n_init=10)\n",
      "C:\\Users\\mcrin\\anaconda3\\Lib\\site-packages\\sklearn\\cluster\\_kmeans.py:1436: UserWarning: KMeans is known to have a memory leak on Windows with MKL, when there are less chunks than available threads. You can avoid it by setting the environment variable OMP_NUM_THREADS=1.\n",
      "  warnings.warn(\n"
     ]
    }
   ],
   "source": [
    "# applying kmeans clustering to the famd data found \n",
    "kmeans = KMeans(n_clusters = 3, random_state = 42).fit(famd.row_coordinates(completedata))\n",
    "completedata['cluster'] = kmeans.labels_"
   ],
   "metadata": {
    "collapsed": false,
    "ExecuteTime": {
     "end_time": "2023-10-20T20:27:12.184824300Z",
     "start_time": "2023-10-20T20:27:11.117731700Z"
    }
   },
   "id": "5a6f56dfb5781682"
  },
  {
   "cell_type": "code",
   "execution_count": 154,
   "outputs": [],
   "source": [
    "# dividing the samples per clusters and plotting them \n",
    "cluster0 = completedata.loc[completedata.cluster == 0]\n",
    "cluster1 = completedata.loc[completedata.cluster == 1]\n",
    "cluster2 = completedata.loc[completedata.cluster == 2]"
   ],
   "metadata": {
    "collapsed": false,
    "ExecuteTime": {
     "end_time": "2023-10-20T20:20:01.070268600Z",
     "start_time": "2023-10-20T20:20:01.058252600Z"
    }
   },
   "id": "808a53ef2b5943f3"
  },
  {
   "cell_type": "code",
   "execution_count": 155,
   "outputs": [
    {
     "data": {
      "text/plain": "<Figure size 640x480 with 1 Axes>",
      "image/png": "[encoded data removed]"
     },
     "metadata": {},
     "output_type": "display_data"
    }
   ],
   "source": [
    "# plotting the clusters using the first two arguments of the famd analysis\n",
    "plt.scatter(cluster0.iloc[:,0], cluster0.iloc[:,1], color = 'red')\n",
    "plt.scatter(cluster1.iloc[:,0], cluster1.iloc[:,1], color = 'blue')\n",
    "plt.scatter(cluster2.iloc[:,0], cluster2.iloc[:,1], color = 'green')\n",
    "plt.show()"
   ],
   "metadata": {
    "collapsed": false,
    "ExecuteTime": {
     "end_time": "2023-10-20T20:20:01.348987Z",
     "start_time": "2023-10-20T20:20:01.068266700Z"
    }
   },
   "id": "51b0e981b37c5d53"
  },
  {
   "cell_type": "code",
   "execution_count": 155,
   "outputs": [],
   "source": [],
   "metadata": {
    "collapsed": false,
    "ExecuteTime": {
     "end_time": "2023-10-20T20:20:01.361048700Z",
     "start_time": "2023-10-20T20:20:01.353064300Z"
    }
   },
   "id": "4ec0506a33fbdfe4"
  }
 ],
 "metadata": {
  "kernelspec": {
   "display_name": "Python 3",
   "language": "python",
   "name": "python3"
  },
  "language_info": {
   "codemirror_mode": {
    "name": "ipython",
    "version": 2
   },
   "file_extension": ".py",
   "mimetype": "text/x-python",
   "name": "python",
   "nbconvert_exporter": "python",
   "pygments_lexer": "ipython2",
   "version": "2.7.6"
  }
 },
 "nbformat": 4,
 "nbformat_minor": 5
}
